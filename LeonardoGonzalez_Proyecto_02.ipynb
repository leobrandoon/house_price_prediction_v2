{
 "cells": [
  {
   "cell_type": "markdown",
   "id": "ca92e020",
   "metadata": {},
   "source": [
    "## PARTE A\n",
    "Transformación de Datos: Elige cuáles de las siguientes tareas son apropiadas para su dataset. Implementa las transformaciones que elegiste. Es importante que justifiques por qué las haces:\n",
    "\n",
    "Detección y eliminación de Outliers\n",
    "\n",
    "Encoding\n",
    "\n",
    "Imputación de valores faltantes\n",
    "\n",
    "Escalado de datos\n",
    "\n",
    "Generación de nuevas variables predictoras/reducción de dimensionalidad (SVD/PCA). Vuelve a entrenar el modelo implementado en la Entrega 01 - en particular, el árbol de decisión - con este nuevo dataset transformado. \n",
    "\n",
    "Evalúa su desempeño a partir del dataset obtenido luego de transformar los datos. \n",
    "\n",
    "¿Hay una mejora en su desempeño? \n",
    "\n",
    "Compara con el desempeño obtenido en el proyecto 01. Sea cual sea la respuesta, intenta explicar a qué se debe.\n",
    "\n",
    "## PARTE B - Modelos Avanzados:\n",
    "\n",
    "Elige dos de los modelos avanzados vistos Compara con el desempeño obtenido en el proyecto 01 (en el caso de regresión, considera una regresión lineal con atributos polinómicos y regularización). \n",
    "\n",
    "Entrénalos y evalúalos con sus argumentos por defecto. No te olvides de hacer un train/test split y usar Validación Cruzada.\n",
    "\n",
    "Optimiza sus hiperparámetros mediante Validación Cruzada y Grid Search o Random Search.\n",
    "Compara el desempeño de los nuevos modelos entre sí y con el modelo de la Parte A. ¿Cuál elegirías? Justifica.\n",
    "\n",
    "## PARTE C - Interpretación de modelos: De acuerdo a lo que el modelo permite, responde algunas o todas las siguientes preguntas:\n",
    "\n",
    "¿Qué variables fueron relevantes para el modelo para hacer una predicción? ¿Cuáles no? Si usaste una regresión lineal con regularización, presta atención a los parámetros (pendientes) obtenidas. Si usaste un modelo de ensamble en árboles, además de ver la importancia de cada atributo, también elige algunos árboles al azar y observa qué atributos considera importantes. ¿En qué se diferencian esos árboles? ¿Por qué? Finalmente, responde, ¿coincide con lo que esperabas a partir de tu experiencia con este dataset?\n",
    "\n",
    "¿Cómo es la distribución de errores (regresión) o qué clases se confunden entre sí (clasificación)? ¿Dónde falla? ¿A qué se debe?\n",
    "### DESAFÍO OPCIONAL\n",
    "Aplica una técnica de Clustering sobre el dataset. Puedes combinar con técnicas de reducción de dimensionalidad para facilitar la visualización. ¿Qué clusters encuentras? ¿A qué pueden corresponder? Te dejamos preguntas que pueden servir como disparadoras: ¿qué barrios se parecen más entre sí?¿qué tipos de propiedades se parecen más entre sí?\n",
    "\n",
    "### Checklist de Evaluacion\n",
    "#### Sugerencias para desarrollar el proyecto:\n",
    "Este proyecto no cuenta con mínimos entregables indicados en la consigna, pero ten en cuenta lo siguiente:\n",
    "\n",
    "en la Parte A debes implementar al menos tres de las transformaciones de datos propuestas.\n",
    "\n",
    "en la Parte B, al menos un modelo debe ser optimizado por Grid Search o Random Search; el otro puede ser optimizado por búsqueda manual (es decir, puedes dejar los mejores parámetros que encontraste probando ).\n",
    "\n",
    "en la Parte C, debes responder al menos una pregunta. Obviamente, ¡cuanto más hagas, más aprenderás y mejor será tu proyecto!"
   ]
  },
  {
   "cell_type": "markdown",
   "id": "206ee004",
   "metadata": {},
   "source": [
    "## PARTE A "
   ]
  },
  {
   "cell_type": "code",
   "execution_count": 49,
   "id": "d2f7fa84",
   "metadata": {},
   "outputs": [],
   "source": [
    "import numpy as np\n",
    "import pandas as pd\n",
    "import matplotlib.pyplot as plt\n",
    "import seaborn as sns\n",
    "\n",
    "sns.set()\n",
    "from pandas import plotting\n",
    "from matplotlib.ticker import ScalarFormatter\n",
    "from matplotlib import gridspec\n",
    "from sklearn.model_selection import train_test_split\n",
    "from sklearn.linear_model import LinearRegression\n",
    "from sklearn.neighbors import LocalOutlierFactor\n",
    "\n",
    "from sklearn import metrics\n",
    "from sklearn.metrics import mean_absolute_error\n",
    "from sklearn.metrics import mean_squared_error\n",
    "\n",
    "import math\n",
    "from sklearn.impute import SimpleImputer\n",
    "from sklearn.pipeline import Pipeline\n",
    "from sklearn.tree import DecisionTreeRegressor\n",
    "from sklearn.ensemble import RandomForestRegressor\n",
    "from sklearn.model_selection import RepeatedStratifiedKFold\n",
    "from sklearn.model_selection import cross_val_score\n",
    "\n",
    "from sklearn.impute import KNNImputer\n",
    "from sklearn.experimental import enable_iterative_imputer\n",
    "from sklearn.impute import IterativeImputer\n",
    "\n",
    "from sklearn.preprocessing import LabelEncoder\n",
    "from sklearn.pipeline import Pipeline\n",
    "\n",
    "from sklearn.decomposition import PCA\n",
    "from sklearn.decomposition import TruncatedSVD\n",
    "\n",
    "import xgboost as xgb\n",
    "from xgboost import plot_importance\n",
    "from sklearn.ensemble import RandomForestRegressor\n",
    "from sklearn import tree as Arbol\n",
    "from sklearn.tree import export_graphviz\n",
    "from sklearn.ensemble import BaggingRegressor\n",
    "from sklearn.ensemble import AdaBoostRegressor\n",
    "from sklearn.ensemble import StackingRegressor\n",
    "\n",
    "from sklearn.linear_model import LinearRegression\n",
    "from sklearn.neighbors import KNeighborsRegressor\n",
    "from sklearn.tree import DecisionTreeRegressor\n",
    "from sklearn.linear_model import LogisticRegression\n",
    "\n",
    "from sklearn.model_selection import GridSearchCV\n",
    "from sklearn.model_selection import RandomizedSearchCV\n",
    "from sklearn.cluster import KMeans"
   ]
  },
  {
   "cell_type": "markdown",
   "id": "308f6ca7",
   "metadata": {},
   "source": [
    "### Filtrado de datos"
   ]
  },
  {
   "cell_type": "code",
   "execution_count": 50,
   "id": "2a8cc5b8",
   "metadata": {
    "scrolled": false
   },
   "outputs": [
    {
     "name": "stdout",
     "output_type": "stream",
     "text": [
      "(146660, 19)\n"
     ]
    },
    {
     "data": {
      "text/html": [
       "<div>\n",
       "<style scoped>\n",
       "    .dataframe tbody tr th:only-of-type {\n",
       "        vertical-align: middle;\n",
       "    }\n",
       "\n",
       "    .dataframe tbody tr th {\n",
       "        vertical-align: top;\n",
       "    }\n",
       "\n",
       "    .dataframe thead th {\n",
       "        text-align: right;\n",
       "    }\n",
       "</style>\n",
       "<table border=\"1\" class=\"dataframe\">\n",
       "  <thead>\n",
       "    <tr style=\"text-align: right;\">\n",
       "      <th></th>\n",
       "      <th>start_date</th>\n",
       "      <th>end_date</th>\n",
       "      <th>created_on</th>\n",
       "      <th>lat</th>\n",
       "      <th>lon</th>\n",
       "      <th>l1</th>\n",
       "      <th>l2</th>\n",
       "      <th>l3</th>\n",
       "      <th>rooms</th>\n",
       "      <th>bedrooms</th>\n",
       "      <th>bathrooms</th>\n",
       "      <th>surface_total</th>\n",
       "      <th>surface_covered</th>\n",
       "      <th>price</th>\n",
       "      <th>currency</th>\n",
       "      <th>title</th>\n",
       "      <th>description</th>\n",
       "      <th>property_type</th>\n",
       "      <th>operation_type</th>\n",
       "    </tr>\n",
       "  </thead>\n",
       "  <tbody>\n",
       "    <tr>\n",
       "      <th>0</th>\n",
       "      <td>2019-10-17</td>\n",
       "      <td>2019-12-23</td>\n",
       "      <td>2019-10-17</td>\n",
       "      <td>-34.605880</td>\n",
       "      <td>-58.384949</td>\n",
       "      <td>Argentina</td>\n",
       "      <td>Capital Federal</td>\n",
       "      <td>San Cristobal</td>\n",
       "      <td>7.0</td>\n",
       "      <td>7.0</td>\n",
       "      <td>2.0</td>\n",
       "      <td>140.0</td>\n",
       "      <td>140.0</td>\n",
       "      <td>153000.0</td>\n",
       "      <td>USD</td>\n",
       "      <td>***Venta semipiso centro, ideal hostel*****</td>\n",
       "      <td>DESCRIPCION DE LA PROPIEDAD: Departamento de 1...</td>\n",
       "      <td>Departamento</td>\n",
       "      <td>Venta</td>\n",
       "    </tr>\n",
       "    <tr>\n",
       "      <th>1</th>\n",
       "      <td>2019-10-17</td>\n",
       "      <td>2019-11-21</td>\n",
       "      <td>2019-10-17</td>\n",
       "      <td>-34.624056</td>\n",
       "      <td>-58.412110</td>\n",
       "      <td>Argentina</td>\n",
       "      <td>Capital Federal</td>\n",
       "      <td>Boedo</td>\n",
       "      <td>2.0</td>\n",
       "      <td>1.0</td>\n",
       "      <td>2.0</td>\n",
       "      <td>70.0</td>\n",
       "      <td>58.0</td>\n",
       "      <td>159000.0</td>\n",
       "      <td>USD</td>\n",
       "      <td>Espectacular PH reciclado en Boedo sin expensas.</td>\n",
       "      <td>PH reciclado en Boedo a una cuadra de la plaz...</td>\n",
       "      <td>PH</td>\n",
       "      <td>Venta</td>\n",
       "    </tr>\n",
       "    <tr>\n",
       "      <th>2</th>\n",
       "      <td>2019-10-17</td>\n",
       "      <td>2019-11-01</td>\n",
       "      <td>2019-10-17</td>\n",
       "      <td>-34.593569</td>\n",
       "      <td>-58.427474</td>\n",
       "      <td>Argentina</td>\n",
       "      <td>Capital Federal</td>\n",
       "      <td>Palermo</td>\n",
       "      <td>2.0</td>\n",
       "      <td>1.0</td>\n",
       "      <td>1.0</td>\n",
       "      <td>45.0</td>\n",
       "      <td>45.0</td>\n",
       "      <td>125000.0</td>\n",
       "      <td>USD</td>\n",
       "      <td>Depto.tipo casa de 2 ambientes en Venta en Pal...</td>\n",
       "      <td>2 ambienets amplio , excelente estado , patio ...</td>\n",
       "      <td>PH</td>\n",
       "      <td>Venta</td>\n",
       "    </tr>\n",
       "    <tr>\n",
       "      <th>3</th>\n",
       "      <td>2019-10-17</td>\n",
       "      <td>2019-12-23</td>\n",
       "      <td>2019-10-17</td>\n",
       "      <td>-34.581294</td>\n",
       "      <td>-58.436754</td>\n",
       "      <td>Argentina</td>\n",
       "      <td>Capital Federal</td>\n",
       "      <td>Palermo</td>\n",
       "      <td>2.0</td>\n",
       "      <td>1.0</td>\n",
       "      <td>1.0</td>\n",
       "      <td>85.0</td>\n",
       "      <td>50.0</td>\n",
       "      <td>295000.0</td>\n",
       "      <td>USD</td>\n",
       "      <td>COSTA RICA 5800 / PALERMO HOLLYWOOD / VENTA PH...</td>\n",
       "      <td>HERMOSO PH EN PALERMO!!!2 AMBIENTES TOTALMENTE...</td>\n",
       "      <td>PH</td>\n",
       "      <td>Venta</td>\n",
       "    </tr>\n",
       "    <tr>\n",
       "      <th>4</th>\n",
       "      <td>2019-10-17</td>\n",
       "      <td>2020-03-11</td>\n",
       "      <td>2019-10-17</td>\n",
       "      <td>-34.914194</td>\n",
       "      <td>-57.938219</td>\n",
       "      <td>Argentina</td>\n",
       "      <td>Bs.As. G.B.A. Zona Sur</td>\n",
       "      <td>La Plata</td>\n",
       "      <td>2.0</td>\n",
       "      <td>1.0</td>\n",
       "      <td>1.0</td>\n",
       "      <td>50.0</td>\n",
       "      <td>35.0</td>\n",
       "      <td>40000.0</td>\n",
       "      <td>USD</td>\n",
       "      <td>58 entre 1 y 2  Venta de departamento en ph.1 ...</td>\n",
       "      <td>58 entre 1 y 2  Venta de departamento en PH. P...</td>\n",
       "      <td>PH</td>\n",
       "      <td>Venta</td>\n",
       "    </tr>\n",
       "  </tbody>\n",
       "</table>\n",
       "</div>"
      ],
      "text/plain": [
       "   start_date    end_date  created_on        lat        lon         l1  \\\n",
       "0  2019-10-17  2019-12-23  2019-10-17 -34.605880 -58.384949  Argentina   \n",
       "1  2019-10-17  2019-11-21  2019-10-17 -34.624056 -58.412110  Argentina   \n",
       "2  2019-10-17  2019-11-01  2019-10-17 -34.593569 -58.427474  Argentina   \n",
       "3  2019-10-17  2019-12-23  2019-10-17 -34.581294 -58.436754  Argentina   \n",
       "4  2019-10-17  2020-03-11  2019-10-17 -34.914194 -57.938219  Argentina   \n",
       "\n",
       "                       l2             l3  rooms  bedrooms  bathrooms  \\\n",
       "0         Capital Federal  San Cristobal    7.0       7.0        2.0   \n",
       "1         Capital Federal          Boedo    2.0       1.0        2.0   \n",
       "2         Capital Federal        Palermo    2.0       1.0        1.0   \n",
       "3         Capital Federal        Palermo    2.0       1.0        1.0   \n",
       "4  Bs.As. G.B.A. Zona Sur       La Plata    2.0       1.0        1.0   \n",
       "\n",
       "   surface_total  surface_covered     price currency  \\\n",
       "0          140.0            140.0  153000.0      USD   \n",
       "1           70.0             58.0  159000.0      USD   \n",
       "2           45.0             45.0  125000.0      USD   \n",
       "3           85.0             50.0  295000.0      USD   \n",
       "4           50.0             35.0   40000.0      USD   \n",
       "\n",
       "                                               title  \\\n",
       "0        ***Venta semipiso centro, ideal hostel*****   \n",
       "1   Espectacular PH reciclado en Boedo sin expensas.   \n",
       "2  Depto.tipo casa de 2 ambientes en Venta en Pal...   \n",
       "3  COSTA RICA 5800 / PALERMO HOLLYWOOD / VENTA PH...   \n",
       "4  58 entre 1 y 2  Venta de departamento en ph.1 ...   \n",
       "\n",
       "                                         description property_type  \\\n",
       "0  DESCRIPCION DE LA PROPIEDAD: Departamento de 1...  Departamento   \n",
       "1   PH reciclado en Boedo a una cuadra de la plaz...            PH   \n",
       "2  2 ambienets amplio , excelente estado , patio ...            PH   \n",
       "3  HERMOSO PH EN PALERMO!!!2 AMBIENTES TOTALMENTE...            PH   \n",
       "4  58 entre 1 y 2  Venta de departamento en PH. P...            PH   \n",
       "\n",
       "  operation_type  \n",
       "0          Venta  \n",
       "1          Venta  \n",
       "2          Venta  \n",
       "3          Venta  \n",
       "4          Venta  "
      ]
     },
     "execution_count": 50,
     "metadata": {},
     "output_type": "execute_result"
    }
   ],
   "source": [
    "df = pd.read_csv(r'DS_Proyecto_01_Datos_Properati.csv')\n",
    "print(df.shape)\n",
    "df.head()"
   ]
  },
  {
   "cell_type": "markdown",
   "id": "ed8f1410",
   "metadata": {},
   "source": [
    "### Filtrando datos iniciales"
   ]
  },
  {
   "cell_type": "code",
   "execution_count": 51,
   "id": "6c893c27",
   "metadata": {
    "scrolled": true
   },
   "outputs": [
    {
     "data": {
      "text/plain": [
       "(91485, 19)"
      ]
     },
     "execution_count": 51,
     "metadata": {},
     "output_type": "execute_result"
    }
   ],
   "source": [
    "df_cf = df[df.property_type.isin(['Departamento','Casa','PH']) & df.l2.isin(['Capital Federal'])]\n",
    "df_cf.shape"
   ]
  },
  {
   "cell_type": "markdown",
   "id": "a5c64f7a",
   "metadata": {},
   "source": [
    "### Ajustando la superficies\n"
   ]
  },
  {
   "cell_type": "code",
   "execution_count": 52,
   "id": "741f54b2",
   "metadata": {
    "scrolled": true
   },
   "outputs": [
    {
     "data": {
      "text/plain": [
       "<matplotlib.legend.Legend at 0x29d61659610>"
      ]
     },
     "execution_count": 52,
     "metadata": {},
     "output_type": "execute_result"
    },
    {
     "data": {
      "image/png": "[encoded data removed]",
      "text/plain": [
       "<Figure size 432x288 with 1 Axes>"
      ]
     },
     "metadata": {},
     "output_type": "display_data"
    }
   ],
   "source": [
    "#existen casos donde la superficie cubierta es mayo que la superficie total. \n",
    "df_cf2 = df_cf.copy()\n",
    "sns.scatterplot(data=df_cf2, x='surface_total', y='surface_covered',hue=\"property_type\")\n",
    "plt.legend(bbox_to_anchor=(1.02, 0.55), loc='upper left', borderaxespad=0)"
   ]
  },
  {
   "cell_type": "code",
   "execution_count": 53,
   "id": "7daa0416",
   "metadata": {
    "scrolled": false
   },
   "outputs": [],
   "source": [
    "df_cf3 = df_cf2.drop(df_cf2.loc[df_cf2['surface_covered'] > df_cf2['surface_total']].index)"
   ]
  },
  {
   "cell_type": "code",
   "execution_count": 54,
   "id": "a4a9b9e1",
   "metadata": {
    "scrolled": false
   },
   "outputs": [
    {
     "data": {
      "text/plain": [
       "<matplotlib.legend.Legend at 0x29d07cb8d00>"
      ]
     },
     "execution_count": 54,
     "metadata": {},
     "output_type": "execute_result"
    },
    {
     "data": {
      "image/png": "[encoded data removed]",
      "text/plain": [
       "<Figure size 432x288 with 1 Axes>"
      ]
     },
     "metadata": {},
     "output_type": "display_data"
    }
   ],
   "source": [
    "#existen casos donde la superficie cubierta es mayo que la superficie total. \n",
    "sns.scatterplot(data=df_cf3, x='surface_total', y='surface_covered',hue=\"property_type\")\n",
    "plt.legend(bbox_to_anchor=(1.02, 0.55), loc='upper left', borderaxespad=0)"
   ]
  },
  {
   "cell_type": "markdown",
   "id": "3d961f64",
   "metadata": {},
   "source": [
    "### Filas duplicadas\n",
    "\n",
    "Filas que tienen los mismos valores para cada columna"
   ]
  },
  {
   "cell_type": "code",
   "execution_count": 55,
   "id": "2db0d359",
   "metadata": {
    "scrolled": false
   },
   "outputs": [
    {
     "data": {
      "text/plain": [
       "start_date         1611\n",
       "end_date           1611\n",
       "created_on         1611\n",
       "lat                1458\n",
       "lon                1458\n",
       "l1                 1611\n",
       "l2                 1611\n",
       "l3                 1611\n",
       "rooms              1611\n",
       "bedrooms           1611\n",
       "bathrooms          1587\n",
       "surface_total      1411\n",
       "surface_covered    1400\n",
       "price              1611\n",
       "currency           1611\n",
       "title              1611\n",
       "description        1611\n",
       "property_type      1611\n",
       "operation_type     1611\n",
       "dtype: int64"
      ]
     },
     "execution_count": 55,
     "metadata": {},
     "output_type": "execute_result"
    }
   ],
   "source": [
    "duplicado = df_cf3.duplicated()\n",
    "df_cf3[duplicado].count()"
   ]
  },
  {
   "cell_type": "code",
   "execution_count": 56,
   "id": "fbef288f",
   "metadata": {
    "scrolled": true
   },
   "outputs": [
    {
     "name": "stdout",
     "output_type": "stream",
     "text": [
      "(90725, 19)\n",
      "(89114, 19)\n"
     ]
    }
   ],
   "source": [
    "print(df_cf3.shape)\n",
    "df_cf3.drop_duplicates(inplace=True)\n",
    "print(df_cf3.shape)"
   ]
  },
  {
   "cell_type": "markdown",
   "id": "dea5710a",
   "metadata": {},
   "source": [
    "### Reduciendo columnas\n",
    "Limitamos columnas mas relevantes"
   ]
  },
  {
   "cell_type": "code",
   "execution_count": 57,
   "id": "d55055e2",
   "metadata": {},
   "outputs": [
    {
     "name": "stdout",
     "output_type": "stream",
     "text": [
      "0 362\n",
      "1 408\n",
      "2 362\n",
      "3 31132\n",
      "4 31401\n",
      "5 1\n",
      "6 1\n",
      "7 57\n",
      "8 19\n",
      "9 16\n",
      "10 14\n",
      "11 716\n",
      "12 572\n",
      "13 5179\n",
      "14 1\n",
      "15 42579\n",
      "16 57932\n",
      "17 3\n",
      "18 1\n"
     ]
    }
   ],
   "source": [
    "for i in range(df_cf3.shape[1]):\n",
    "    print(i,len(pd.unique(df_cf3.iloc[:,i])))"
   ]
  },
  {
   "cell_type": "code",
   "execution_count": 58,
   "id": "1d5c369e",
   "metadata": {
    "scrolled": true
   },
   "outputs": [
    {
     "name": "stdout",
     "output_type": "stream",
     "text": [
      "0, 362, 0.4%\n",
      "1, 408, 0.5%\n",
      "2, 362, 0.4%\n",
      "3, 31132, 34.9%\n",
      "4, 31401, 35.2%\n",
      "5, 1, 0.0%\n",
      "6, 1, 0.0%\n",
      "7, 57, 0.1%\n",
      "8, 19, 0.0%\n",
      "9, 16, 0.0%\n",
      "10, 14, 0.0%\n",
      "11, 716, 0.8%\n",
      "12, 572, 0.6%\n",
      "13, 5179, 5.8%\n",
      "14, 1, 0.0%\n",
      "15, 42579, 47.8%\n",
      "16, 57932, 65.0%\n",
      "17, 3, 0.0%\n",
      "18, 1, 0.0%\n"
     ]
    }
   ],
   "source": [
    "for i in range(df_cf3.shape[1]):\n",
    "    num=len(pd.unique(df_cf3.iloc[:,i]))\n",
    "    porcentaje=float(num)/df_cf3.shape[0]*100\n",
    "    print(\"%d, %d, %.1f%%\"%(i,num,porcentaje))"
   ]
  },
  {
   "cell_type": "code",
   "execution_count": 59,
   "id": "cf92635d",
   "metadata": {},
   "outputs": [],
   "source": [
    "df_cf3 = df_cf3.drop([\"start_date\",\"end_date\",\"title\",\"description\",\"l1\",\"l2\",\"currency\",\"operation_type\"],axis=1)"
   ]
  },
  {
   "cell_type": "markdown",
   "id": "1cbcc2c9",
   "metadata": {},
   "source": [
    "#### Correlacion"
   ]
  },
  {
   "cell_type": "code",
   "execution_count": 60,
   "id": "fa167e97",
   "metadata": {
    "scrolled": false
   },
   "outputs": [
    {
     "data": {
      "text/plain": [
       "<AxesSubplot:>"
      ]
     },
     "execution_count": 60,
     "metadata": {},
     "output_type": "execute_result"
    },
    {
     "data": {
      "image/png": "[encoded data removed]",
      "text/plain": [
       "<Figure size 504x504 with 2 Axes>"
      ]
     },
     "metadata": {},
     "output_type": "display_data"
    }
   ],
   "source": [
    "fig =plt.subplots(figsize=(7,7))\n",
    "sns.heatmap(df_cf3.corr(), annot=True)"
   ]
  },
  {
   "cell_type": "code",
   "execution_count": 83,
   "id": "3c9e3759",
   "metadata": {},
   "outputs": [],
   "source": [
    "df_cf4 = df_cf3.copy()"
   ]
  },
  {
   "cell_type": "code",
   "execution_count": 84,
   "id": "029f7b9d",
   "metadata": {},
   "outputs": [
    {
     "data": {
      "text/plain": [
       "created_on            0\n",
       "lat                4376\n",
       "lon                4390\n",
       "l3                    0\n",
       "rooms                 0\n",
       "bedrooms              0\n",
       "bathrooms          2139\n",
       "surface_total      8717\n",
       "surface_covered    9024\n",
       "price                 0\n",
       "property_type         0\n",
       "dtype: int64"
      ]
     },
     "execution_count": 84,
     "metadata": {},
     "output_type": "execute_result"
    }
   ],
   "source": [
    "df_cf4.isnull().sum()"
   ]
  },
  {
   "cell_type": "markdown",
   "id": "3a35629b",
   "metadata": {},
   "source": [
    "#### imputacion estadistica"
   ]
  },
  {
   "cell_type": "code",
   "execution_count": 85,
   "id": "fb9330ae",
   "metadata": {
    "scrolled": false
   },
   "outputs": [
    {
     "data": {
      "text/html": [
       "<div>\n",
       "<style scoped>\n",
       "    .dataframe tbody tr th:only-of-type {\n",
       "        vertical-align: middle;\n",
       "    }\n",
       "\n",
       "    .dataframe tbody tr th {\n",
       "        vertical-align: top;\n",
       "    }\n",
       "\n",
       "    .dataframe thead th {\n",
       "        text-align: right;\n",
       "    }\n",
       "</style>\n",
       "<table border=\"1\" class=\"dataframe\">\n",
       "  <thead>\n",
       "    <tr style=\"text-align: right;\">\n",
       "      <th></th>\n",
       "      <th>rooms</th>\n",
       "      <th>bedrooms</th>\n",
       "      <th>bathrooms</th>\n",
       "      <th>surface_total</th>\n",
       "      <th>surface_covered</th>\n",
       "    </tr>\n",
       "  </thead>\n",
       "  <tbody>\n",
       "    <tr>\n",
       "      <th>0</th>\n",
       "      <td>7.0</td>\n",
       "      <td>7.0</td>\n",
       "      <td>2.0</td>\n",
       "      <td>140.0</td>\n",
       "      <td>140.0</td>\n",
       "    </tr>\n",
       "    <tr>\n",
       "      <th>1</th>\n",
       "      <td>2.0</td>\n",
       "      <td>1.0</td>\n",
       "      <td>2.0</td>\n",
       "      <td>70.0</td>\n",
       "      <td>58.0</td>\n",
       "    </tr>\n",
       "    <tr>\n",
       "      <th>2</th>\n",
       "      <td>2.0</td>\n",
       "      <td>1.0</td>\n",
       "      <td>1.0</td>\n",
       "      <td>45.0</td>\n",
       "      <td>45.0</td>\n",
       "    </tr>\n",
       "    <tr>\n",
       "      <th>3</th>\n",
       "      <td>2.0</td>\n",
       "      <td>1.0</td>\n",
       "      <td>1.0</td>\n",
       "      <td>85.0</td>\n",
       "      <td>50.0</td>\n",
       "    </tr>\n",
       "    <tr>\n",
       "      <th>5</th>\n",
       "      <td>2.0</td>\n",
       "      <td>1.0</td>\n",
       "      <td>1.0</td>\n",
       "      <td>56.0</td>\n",
       "      <td>56.0</td>\n",
       "    </tr>\n",
       "  </tbody>\n",
       "</table>\n",
       "</div>"
      ],
      "text/plain": [
       "   rooms  bedrooms  bathrooms  surface_total  surface_covered\n",
       "0    7.0       7.0        2.0          140.0            140.0\n",
       "1    2.0       1.0        2.0           70.0             58.0\n",
       "2    2.0       1.0        1.0           45.0             45.0\n",
       "3    2.0       1.0        1.0           85.0             50.0\n",
       "5    2.0       1.0        1.0           56.0             56.0"
      ]
     },
     "execution_count": 85,
     "metadata": {},
     "output_type": "execute_result"
    }
   ],
   "source": [
    "#Definimos variables de preuba y testeo\n",
    "X= df_cf4.drop([\"price\",\"created_on\",\"lat\",\"lon\",\"property_type\",\"l3\"],axis=1)\n",
    "y = df_cf4[\"price\"]\n",
    "X.head()"
   ]
  },
  {
   "cell_type": "code",
   "execution_count": 86,
   "id": "a4abe9f0",
   "metadata": {
    "scrolled": false
   },
   "outputs": [
    {
     "data": {
      "text/plain": [
       "rooms                 0\n",
       "bedrooms              0\n",
       "bathrooms          2139\n",
       "surface_total      8717\n",
       "surface_covered    9024\n",
       "dtype: int64"
      ]
     },
     "execution_count": 86,
     "metadata": {},
     "output_type": "execute_result"
    }
   ],
   "source": [
    "X.isnull().sum()"
   ]
  },
  {
   "cell_type": "markdown",
   "id": "663556ab",
   "metadata": {},
   "source": [
    "Arbol Regresor"
   ]
  },
  {
   "cell_type": "code",
   "execution_count": 87,
   "id": "67e150ac",
   "metadata": {},
   "outputs": [
    {
     "name": "stdout",
     "output_type": "stream",
     "text": [
      "RSME 132791.0 Segun mean\n",
      "MAE 62675.0 Segun mean\n",
      "----------------------------------------\n",
      "RSME 132767.0 Segun median\n",
      "MAE 62723.0 Segun median\n",
      "----------------------------------------\n",
      "RSME 132253.0 Segun most_frequent\n",
      "MAE 62424.0 Segun most_frequent\n",
      "----------------------------------------\n",
      "RSME 131878.0 Segun constant\n",
      "MAE 62199.0 Segun constant\n",
      "----------------------------------------\n"
     ]
    }
   ],
   "source": [
    "#definimos el modelo\n",
    "tree = DecisionTreeRegressor()\n",
    "resultado = []\n",
    "tipos = ['mean','median','most_frequent','constant']\n",
    "\n",
    "#funcion para evaluar modelos con Arboles.\n",
    "for t in tipos:\n",
    "    imputer = SimpleImputer(strategy=t)\n",
    "    imputer.fit(X)\n",
    "    X_trans= imputer.transform(X)\n",
    "    \n",
    "    tree= DecisionTreeRegressor( max_depth=10,random_state=42)\n",
    "    tree.fit(X_trans,y)\n",
    "    y_pred= tree.predict(X_trans)\n",
    "    MAE=mean_absolute_error(y,y_pred)\n",
    "    RMSE=np.sqrt(mean_squared_error(y,y_pred))\n",
    "    r2 = metrics.r2_score(y, y_pred)\n",
    "    resultado.append(r2)\n",
    "    #imprimimos los resultado en funcion del precio que queremos estimar   \n",
    "    print('RSME',RMSE.round(0),\"Segun\",t)\n",
    "    print('MAE',MAE.round(0),\"Segun\",t)\n",
    "    print(\"----------------------------------------\")\n",
    "    "
   ]
  },
  {
   "cell_type": "code",
   "execution_count": 88,
   "id": "07e7e805",
   "metadata": {
    "scrolled": false
   },
   "outputs": [
    {
     "name": "stdout",
     "output_type": "stream",
     "text": [
      "Missing: 0\n"
     ]
    }
   ],
   "source": [
    "print('Missing: %d' % sum(np.isnan(X_trans).flatten()))"
   ]
  },
  {
   "cell_type": "code",
   "execution_count": 67,
   "id": "b823d761",
   "metadata": {},
   "outputs": [
    {
     "name": "stdout",
     "output_type": "stream",
     "text": [
      "La cantidad de vecinos utilizados---> 6\n",
      "RSME 130394.0\n",
      "MAE 61762.0\n",
      "----------------------------------------\n"
     ]
    }
   ],
   "source": [
    "vecinos = [6]\n",
    "for v in vecinos:\n",
    "    KNN_imputer=KNNImputer(n_neighbors=v)\n",
    "    KNN_imputer.fit(X)\n",
    "    X_knn= KNN_imputer.transform(X)\n",
    "    tree = DecisionTreeRegressor(max_depth=10,random_state=42)\n",
    "    tree.fit(X_knn,y)\n",
    "    y_pred = tree.predict(X_knn)\n",
    "    r2 = metrics.r2_score(y, y_pred)\n",
    "    MAE=mean_absolute_error(y,y_pred)\n",
    "    RMSE=np.sqrt(mean_squared_error(y,y_pred))\n",
    "    resultado.append(r2)\n",
    "    print(\"La cantidad de vecinos utilizados--->\",v)\n",
    "    print('RSME',RMSE.round(0))\n",
    "    print('MAE',MAE.round(0))\n",
    "    print(\"----------------------------------------\")"
   ]
  },
  {
   "cell_type": "code",
   "execution_count": 185,
   "id": "c5280e1c",
   "metadata": {
    "scrolled": false
   },
   "outputs": [
    {
     "name": "stdout",
     "output_type": "stream",
     "text": [
      "Missing: 0\n"
     ]
    }
   ],
   "source": [
    "print('Missing: %d' % sum(np.isnan(X_knn).flatten()))"
   ]
  },
  {
   "cell_type": "markdown",
   "id": "c3b03f7a",
   "metadata": {},
   "source": [
    "### Aplicacion del KNNImputer en dataset¶"
   ]
  },
  {
   "cell_type": "code",
   "execution_count": 69,
   "id": "f743db82",
   "metadata": {
    "scrolled": false
   },
   "outputs": [
    {
     "data": {
      "text/plain": [
       "created_on            0\n",
       "lat                4376\n",
       "lon                4390\n",
       "l3                    0\n",
       "rooms                 0\n",
       "bedrooms              0\n",
       "bathrooms          2139\n",
       "surface_total      8717\n",
       "surface_covered    9024\n",
       "price                 0\n",
       "property_type         0\n",
       "dtype: int64"
      ]
     },
     "execution_count": 69,
     "metadata": {},
     "output_type": "execute_result"
    }
   ],
   "source": [
    "df_cf4.isnull().sum()"
   ]
  },
  {
   "cell_type": "code",
   "execution_count": 89,
   "id": "46c36ca7",
   "metadata": {},
   "outputs": [],
   "source": [
    "KNN_imputer=KNNImputer(n_neighbors=6)\n",
    "KNN_imputer=KNN_imputer.fit(df_cf4.iloc[:,6:9])\n",
    "df_cf4.iloc[:,6:9]=KNN_imputer.transform(df_cf4.iloc[:,6:9])"
   ]
  },
  {
   "cell_type": "code",
   "execution_count": 90,
   "id": "b0f17972",
   "metadata": {},
   "outputs": [],
   "source": [
    "KNN_imputer=KNNImputer(n_neighbors=6)\n",
    "KNN_imputer=KNN_imputer.fit(df_cf4.iloc[:,1:3])\n",
    "df_cf4.iloc[:,1:3]=KNN_imputer.transform(df_cf4.iloc[:,1:3])"
   ]
  },
  {
   "cell_type": "code",
   "execution_count": 91,
   "id": "42c1444a",
   "metadata": {
    "scrolled": false
   },
   "outputs": [
    {
     "data": {
      "text/plain": [
       "created_on         0\n",
       "lat                0\n",
       "lon                0\n",
       "l3                 0\n",
       "rooms              0\n",
       "bedrooms           0\n",
       "bathrooms          0\n",
       "surface_total      0\n",
       "surface_covered    0\n",
       "price              0\n",
       "property_type      0\n",
       "dtype: int64"
      ]
     },
     "execution_count": 91,
     "metadata": {},
     "output_type": "execute_result"
    }
   ],
   "source": [
    "df_cf4.isnull().sum()"
   ]
  },
  {
   "cell_type": "code",
   "execution_count": 73,
   "id": "30e83336",
   "metadata": {
    "scrolled": false
   },
   "outputs": [
    {
     "data": {
      "text/plain": [
       "(89114, 11)"
      ]
     },
     "execution_count": 73,
     "metadata": {},
     "output_type": "execute_result"
    }
   ],
   "source": [
    "df_cf4.shape"
   ]
  },
  {
   "cell_type": "code",
   "execution_count": 92,
   "id": "f36885f8",
   "metadata": {
    "scrolled": false
   },
   "outputs": [
    {
     "data": {
      "text/plain": [
       "<AxesSubplot:>"
      ]
     },
     "execution_count": 92,
     "metadata": {},
     "output_type": "execute_result"
    },
    {
     "data": {
      "image/png": "[encoded data removed]",
      "text/plain": [
       "<Figure size 576x576 with 2 Axes>"
      ]
     },
     "metadata": {},
     "output_type": "display_data"
    }
   ],
   "source": [
    "fig =plt.subplots(figsize=(8,8))\n",
    "sns.heatmap(df_cf4.corr(), annot=True)"
   ]
  },
  {
   "cell_type": "markdown",
   "id": "224b76ad",
   "metadata": {},
   "source": [
    "## Outiers\n",
    "\n",
    "#### Metodo IQR"
   ]
  },
  {
   "cell_type": "code",
   "execution_count": 239,
   "id": "0edd6bc7",
   "metadata": {},
   "outputs": [],
   "source": [
    "df_cf5=df_cf4.copy()"
   ]
  },
  {
   "cell_type": "code",
   "execution_count": 240,
   "id": "71566e99",
   "metadata": {
    "scrolled": true
   },
   "outputs": [
    {
     "name": "stderr",
     "output_type": "stream",
     "text": [
      "<ipython-input-240-7827bda35ebf>:6: FutureWarning: Automatic reindexing on DataFrame vs Series comparisons is deprecated and will raise ValueError in a future version.  Do `left, right = left.align(right, axis=1, copy=False)` before e.g. `left == right`\n",
      "  df_cf5=df_cf5[~((df_cf5<(Q1-1.5*IQR))|(df_cf5>(Q3+1.5*IQR))).any(axis=1)]\n",
      "<ipython-input-240-7827bda35ebf>:6: FutureWarning: Automatic reindexing on DataFrame vs Series comparisons is deprecated and will raise ValueError in a future version.  Do `left, right = left.align(right, axis=1, copy=False)` before e.g. `left == right`\n",
      "  df_cf5=df_cf5[~((df_cf5<(Q1-1.5*IQR))|(df_cf5>(Q3+1.5*IQR))).any(axis=1)]\n"
     ]
    },
    {
     "data": {
      "text/plain": [
       "(75582, 11)"
      ]
     },
     "execution_count": 240,
     "metadata": {},
     "output_type": "execute_result"
    }
   ],
   "source": [
    "#definimos los cuantiles\n",
    "Q1= df_cf5.quantile(0.25)\n",
    "Q3= df_cf5.quantile(0.75)\n",
    "IQR = Q3-Q1\n",
    "#aplicamos a todas las columnas del df\n",
    "df_cf5=df_cf5[~((df_cf5<(Q1-1.5*IQR))|(df_cf5>(Q3+1.5*IQR))).any(axis=1)]\n",
    "df_cf5.shape"
   ]
  },
  {
   "cell_type": "code",
   "execution_count": 241,
   "id": "cca7433e",
   "metadata": {},
   "outputs": [
    {
     "data": {
      "text/plain": [
       "Text(0.5, 0, 'property type')"
      ]
     },
     "execution_count": 241,
     "metadata": {},
     "output_type": "execute_result"
    },
    {
     "data": {
      "image/png": "[encoded data removed]",
      "text/plain": [
       "<Figure size 1080x360 with 3 Axes>"
      ]
     },
     "metadata": {},
     "output_type": "display_data"
    }
   ],
   "source": [
    "fig, (ax1, ax2, ax3) = plt.subplots(1, 3,figsize=(15,5))\n",
    "fig.suptitle('Distribucion precio y superficie por tipo de Propiedad')\n",
    "sns.boxplot(data=df_cf5, x='property_type', y='price',ax=ax1)\n",
    "sns.boxplot(data=df_cf5, x='property_type', y='surface_total',ax=ax2)\n",
    "sns.boxplot(data=df_cf5, x='property_type', y='surface_covered',ax=ax3)\n",
    "plt.xlabel ( 'property type' ) "
   ]
  },
  {
   "cell_type": "code",
   "execution_count": 242,
   "id": "8f5308e7",
   "metadata": {
    "scrolled": false
   },
   "outputs": [
    {
     "data": {
      "text/plain": [
       "<AxesSubplot:>"
      ]
     },
     "execution_count": 242,
     "metadata": {},
     "output_type": "execute_result"
    },
    {
     "data": {
      "image/png": "[encoded data removed]",
      "text/plain": [
       "<Figure size 576x576 with 2 Axes>"
      ]
     },
     "metadata": {},
     "output_type": "display_data"
    }
   ],
   "source": [
    "fig =plt.subplots(figsize=(8,8))\n",
    "sns.heatmap(df_cf5.corr(), annot=True)"
   ]
  },
  {
   "cell_type": "markdown",
   "id": "ae2f0988",
   "metadata": {},
   "source": [
    "# Encoding"
   ]
  },
  {
   "cell_type": "code",
   "execution_count": 243,
   "id": "d8ff8c4a",
   "metadata": {
    "scrolled": true
   },
   "outputs": [
    {
     "name": "stdout",
     "output_type": "stream",
     "text": [
      "<class 'pandas.core.frame.DataFrame'>\n",
      "Int64Index: 75582 entries, 1 to 146557\n",
      "Data columns (total 11 columns):\n",
      " #   Column           Non-Null Count  Dtype  \n",
      "---  ------           --------------  -----  \n",
      " 0   created_on       75582 non-null  object \n",
      " 1   lat              75582 non-null  float64\n",
      " 2   lon              75582 non-null  float64\n",
      " 3   l3               75582 non-null  object \n",
      " 4   rooms            75582 non-null  float64\n",
      " 5   bedrooms         75582 non-null  float64\n",
      " 6   bathrooms        75582 non-null  float64\n",
      " 7   surface_total    75582 non-null  float64\n",
      " 8   surface_covered  75582 non-null  float64\n",
      " 9   price            75582 non-null  float64\n",
      " 10  property_type    75582 non-null  object \n",
      "dtypes: float64(8), object(3)\n",
      "memory usage: 8.9+ MB\n"
     ]
    }
   ],
   "source": [
    "df_cf5.info()"
   ]
  },
  {
   "cell_type": "markdown",
   "id": "18261988",
   "metadata": {},
   "source": [
    " Procesaremos las columnas [ 'created_on', 'property_type'], considerando que podemos utilizar el año de la propiedad y al tipo que corresponde como variables categoricas"
   ]
  },
  {
   "cell_type": "markdown",
   "id": "5bb50f17",
   "metadata": {},
   "source": [
    "### Aplicando LabelEncoder"
   ]
  },
  {
   "cell_type": "code",
   "execution_count": 244,
   "id": "3529d3a5",
   "metadata": {},
   "outputs": [
    {
     "data": {
      "text/html": [
       "<div>\n",
       "<style scoped>\n",
       "    .dataframe tbody tr th:only-of-type {\n",
       "        vertical-align: middle;\n",
       "    }\n",
       "\n",
       "    .dataframe tbody tr th {\n",
       "        vertical-align: top;\n",
       "    }\n",
       "\n",
       "    .dataframe thead th {\n",
       "        text-align: right;\n",
       "    }\n",
       "</style>\n",
       "<table border=\"1\" class=\"dataframe\">\n",
       "  <thead>\n",
       "    <tr style=\"text-align: right;\">\n",
       "      <th></th>\n",
       "      <th>lat</th>\n",
       "      <th>lon</th>\n",
       "      <th>l3</th>\n",
       "      <th>rooms</th>\n",
       "      <th>bedrooms</th>\n",
       "      <th>bathrooms</th>\n",
       "      <th>surface_total</th>\n",
       "      <th>surface_covered</th>\n",
       "      <th>price</th>\n",
       "      <th>property_type</th>\n",
       "      <th>date</th>\n",
       "    </tr>\n",
       "  </thead>\n",
       "  <tbody>\n",
       "    <tr>\n",
       "      <th>1</th>\n",
       "      <td>-34.624056</td>\n",
       "      <td>-58.412110</td>\n",
       "      <td>Boedo</td>\n",
       "      <td>2.0</td>\n",
       "      <td>1.0</td>\n",
       "      <td>2.0</td>\n",
       "      <td>70.0</td>\n",
       "      <td>58.0</td>\n",
       "      <td>159000.0</td>\n",
       "      <td>PH</td>\n",
       "      <td>2019-10-17</td>\n",
       "    </tr>\n",
       "    <tr>\n",
       "      <th>2</th>\n",
       "      <td>-34.593569</td>\n",
       "      <td>-58.427474</td>\n",
       "      <td>Palermo</td>\n",
       "      <td>2.0</td>\n",
       "      <td>1.0</td>\n",
       "      <td>1.0</td>\n",
       "      <td>45.0</td>\n",
       "      <td>45.0</td>\n",
       "      <td>125000.0</td>\n",
       "      <td>PH</td>\n",
       "      <td>2019-10-17</td>\n",
       "    </tr>\n",
       "    <tr>\n",
       "      <th>3</th>\n",
       "      <td>-34.581294</td>\n",
       "      <td>-58.436754</td>\n",
       "      <td>Palermo</td>\n",
       "      <td>2.0</td>\n",
       "      <td>1.0</td>\n",
       "      <td>1.0</td>\n",
       "      <td>85.0</td>\n",
       "      <td>50.0</td>\n",
       "      <td>295000.0</td>\n",
       "      <td>PH</td>\n",
       "      <td>2019-10-17</td>\n",
       "    </tr>\n",
       "    <tr>\n",
       "      <th>5</th>\n",
       "      <td>-34.593779</td>\n",
       "      <td>-58.441239</td>\n",
       "      <td>Villa Crespo</td>\n",
       "      <td>2.0</td>\n",
       "      <td>1.0</td>\n",
       "      <td>1.0</td>\n",
       "      <td>56.0</td>\n",
       "      <td>56.0</td>\n",
       "      <td>150000.0</td>\n",
       "      <td>PH</td>\n",
       "      <td>2019-10-17</td>\n",
       "    </tr>\n",
       "    <tr>\n",
       "      <th>6</th>\n",
       "      <td>-34.600988</td>\n",
       "      <td>-58.433061</td>\n",
       "      <td>Villa Crespo</td>\n",
       "      <td>2.0</td>\n",
       "      <td>1.0</td>\n",
       "      <td>1.0</td>\n",
       "      <td>70.0</td>\n",
       "      <td>70.0</td>\n",
       "      <td>159500.0</td>\n",
       "      <td>PH</td>\n",
       "      <td>2019-10-17</td>\n",
       "    </tr>\n",
       "  </tbody>\n",
       "</table>\n",
       "</div>"
      ],
      "text/plain": [
       "         lat        lon            l3  rooms  bedrooms  bathrooms  \\\n",
       "1 -34.624056 -58.412110         Boedo    2.0       1.0        2.0   \n",
       "2 -34.593569 -58.427474       Palermo    2.0       1.0        1.0   \n",
       "3 -34.581294 -58.436754       Palermo    2.0       1.0        1.0   \n",
       "5 -34.593779 -58.441239  Villa Crespo    2.0       1.0        1.0   \n",
       "6 -34.600988 -58.433061  Villa Crespo    2.0       1.0        1.0   \n",
       "\n",
       "   surface_total  surface_covered     price property_type       date  \n",
       "1           70.0             58.0  159000.0            PH 2019-10-17  \n",
       "2           45.0             45.0  125000.0            PH 2019-10-17  \n",
       "3           85.0             50.0  295000.0            PH 2019-10-17  \n",
       "5           56.0             56.0  150000.0            PH 2019-10-17  \n",
       "6           70.0             70.0  159500.0            PH 2019-10-17  "
      ]
     },
     "execution_count": 244,
     "metadata": {},
     "output_type": "execute_result"
    }
   ],
   "source": [
    "#transformamos la columan de create on en formato de fecha\n",
    "df_cf5[\"date\"] = pd.to_datetime(df_cf5.created_on, format=\"%Y-%m-%d\")\n",
    "df_cf5.drop(\"created_on\",axis=1,inplace=True)\n",
    "df_cf5.head()"
   ]
  },
  {
   "cell_type": "code",
   "execution_count": 245,
   "id": "e7ad2fa2",
   "metadata": {
    "scrolled": true
   },
   "outputs": [
    {
     "data": {
      "text/html": [
       "<div>\n",
       "<style scoped>\n",
       "    .dataframe tbody tr th:only-of-type {\n",
       "        vertical-align: middle;\n",
       "    }\n",
       "\n",
       "    .dataframe tbody tr th {\n",
       "        vertical-align: top;\n",
       "    }\n",
       "\n",
       "    .dataframe thead th {\n",
       "        text-align: right;\n",
       "    }\n",
       "</style>\n",
       "<table border=\"1\" class=\"dataframe\">\n",
       "  <thead>\n",
       "    <tr style=\"text-align: right;\">\n",
       "      <th></th>\n",
       "      <th>lat</th>\n",
       "      <th>lon</th>\n",
       "      <th>l3</th>\n",
       "      <th>rooms</th>\n",
       "      <th>bedrooms</th>\n",
       "      <th>bathrooms</th>\n",
       "      <th>surface_total</th>\n",
       "      <th>surface_covered</th>\n",
       "      <th>price</th>\n",
       "      <th>property_type</th>\n",
       "      <th>year</th>\n",
       "    </tr>\n",
       "  </thead>\n",
       "  <tbody>\n",
       "    <tr>\n",
       "      <th>1</th>\n",
       "      <td>-34.624056</td>\n",
       "      <td>-58.412110</td>\n",
       "      <td>Boedo</td>\n",
       "      <td>2.0</td>\n",
       "      <td>1.0</td>\n",
       "      <td>2.0</td>\n",
       "      <td>70.0</td>\n",
       "      <td>58.0</td>\n",
       "      <td>159000.0</td>\n",
       "      <td>PH</td>\n",
       "      <td>2019</td>\n",
       "    </tr>\n",
       "    <tr>\n",
       "      <th>2</th>\n",
       "      <td>-34.593569</td>\n",
       "      <td>-58.427474</td>\n",
       "      <td>Palermo</td>\n",
       "      <td>2.0</td>\n",
       "      <td>1.0</td>\n",
       "      <td>1.0</td>\n",
       "      <td>45.0</td>\n",
       "      <td>45.0</td>\n",
       "      <td>125000.0</td>\n",
       "      <td>PH</td>\n",
       "      <td>2019</td>\n",
       "    </tr>\n",
       "    <tr>\n",
       "      <th>3</th>\n",
       "      <td>-34.581294</td>\n",
       "      <td>-58.436754</td>\n",
       "      <td>Palermo</td>\n",
       "      <td>2.0</td>\n",
       "      <td>1.0</td>\n",
       "      <td>1.0</td>\n",
       "      <td>85.0</td>\n",
       "      <td>50.0</td>\n",
       "      <td>295000.0</td>\n",
       "      <td>PH</td>\n",
       "      <td>2019</td>\n",
       "    </tr>\n",
       "    <tr>\n",
       "      <th>5</th>\n",
       "      <td>-34.593779</td>\n",
       "      <td>-58.441239</td>\n",
       "      <td>Villa Crespo</td>\n",
       "      <td>2.0</td>\n",
       "      <td>1.0</td>\n",
       "      <td>1.0</td>\n",
       "      <td>56.0</td>\n",
       "      <td>56.0</td>\n",
       "      <td>150000.0</td>\n",
       "      <td>PH</td>\n",
       "      <td>2019</td>\n",
       "    </tr>\n",
       "    <tr>\n",
       "      <th>6</th>\n",
       "      <td>-34.600988</td>\n",
       "      <td>-58.433061</td>\n",
       "      <td>Villa Crespo</td>\n",
       "      <td>2.0</td>\n",
       "      <td>1.0</td>\n",
       "      <td>1.0</td>\n",
       "      <td>70.0</td>\n",
       "      <td>70.0</td>\n",
       "      <td>159500.0</td>\n",
       "      <td>PH</td>\n",
       "      <td>2019</td>\n",
       "    </tr>\n",
       "  </tbody>\n",
       "</table>\n",
       "</div>"
      ],
      "text/plain": [
       "         lat        lon            l3  rooms  bedrooms  bathrooms  \\\n",
       "1 -34.624056 -58.412110         Boedo    2.0       1.0        2.0   \n",
       "2 -34.593569 -58.427474       Palermo    2.0       1.0        1.0   \n",
       "3 -34.581294 -58.436754       Palermo    2.0       1.0        1.0   \n",
       "5 -34.593779 -58.441239  Villa Crespo    2.0       1.0        1.0   \n",
       "6 -34.600988 -58.433061  Villa Crespo    2.0       1.0        1.0   \n",
       "\n",
       "   surface_total  surface_covered     price property_type  year  \n",
       "1           70.0             58.0  159000.0            PH  2019  \n",
       "2           45.0             45.0  125000.0            PH  2019  \n",
       "3           85.0             50.0  295000.0            PH  2019  \n",
       "5           56.0             56.0  150000.0            PH  2019  \n",
       "6           70.0             70.0  159500.0            PH  2019  "
      ]
     },
     "execution_count": 245,
     "metadata": {},
     "output_type": "execute_result"
    }
   ],
   "source": [
    "#creamos la columna año para poder guardar el año de la propiedad.\n",
    "df_cf5['year'] = pd.DatetimeIndex(df_cf5['date']).year\n",
    "df_cf5.drop(\"date\",axis=1,inplace=True)\n",
    "df_cf5.head()"
   ]
  },
  {
   "cell_type": "code",
   "execution_count": 246,
   "id": "c3d6610a",
   "metadata": {},
   "outputs": [],
   "source": [
    "#transoformamos primero la variable years\n",
    "Labelencoder= LabelEncoder()\n",
    "Labelencoder.fit(df_cf5['year'])\n",
    "df_cf5['years']=Labelencoder.transform(df_cf5['year'])\n",
    "df_cf5.drop('year', axis=1,inplace=True)"
   ]
  },
  {
   "cell_type": "code",
   "execution_count": 247,
   "id": "4a4642aa",
   "metadata": {},
   "outputs": [
    {
     "data": {
      "text/plain": [
       "[2019, 2020]"
      ]
     },
     "execution_count": 247,
     "metadata": {},
     "output_type": "execute_result"
    }
   ],
   "source": [
    "list(Labelencoder.classes_)"
   ]
  },
  {
   "cell_type": "code",
   "execution_count": 248,
   "id": "e2e3a533",
   "metadata": {},
   "outputs": [
    {
     "data": {
      "text/plain": [
       "array([0, 1], dtype=int64)"
      ]
     },
     "execution_count": 248,
     "metadata": {},
     "output_type": "execute_result"
    }
   ],
   "source": [
    "df_cf5['years'].unique()"
   ]
  },
  {
   "cell_type": "code",
   "execution_count": 249,
   "id": "c7729d8e",
   "metadata": {},
   "outputs": [],
   "source": [
    "#transoformamos primero la variable tipo de propiedad\n",
    "Labelencoder= LabelEncoder()\n",
    "Labelencoder.fit(df_cf5[\"property_type\"])\n",
    "df_cf5[\"Tipo_propiedad\"] = Labelencoder.transform(df_cf5[\"property_type\"])\n",
    "df_cf5.drop(\"property_type\",axis=1,inplace=True)"
   ]
  },
  {
   "cell_type": "code",
   "execution_count": 250,
   "id": "dd93f20b",
   "metadata": {},
   "outputs": [
    {
     "data": {
      "text/plain": [
       "['Casa', 'Departamento', 'PH']"
      ]
     },
     "execution_count": 250,
     "metadata": {},
     "output_type": "execute_result"
    }
   ],
   "source": [
    "list(Labelencoder.classes_)"
   ]
  },
  {
   "cell_type": "code",
   "execution_count": 251,
   "id": "d276985b",
   "metadata": {},
   "outputs": [
    {
     "data": {
      "text/plain": [
       "array([2, 1, 0])"
      ]
     },
     "execution_count": 251,
     "metadata": {},
     "output_type": "execute_result"
    }
   ],
   "source": [
    "df_cf5['Tipo_propiedad'].unique()"
   ]
  },
  {
   "cell_type": "markdown",
   "id": "09b4f939",
   "metadata": {},
   "source": [
    "### Aplicando get_dummies"
   ]
  },
  {
   "cell_type": "code",
   "execution_count": 252,
   "id": "a2b679f0",
   "metadata": {},
   "outputs": [],
   "source": [
    "#guardaremos una copia para los cluster\n",
    "dataset_cluster= df_cf5.copy()"
   ]
  },
  {
   "cell_type": "code",
   "execution_count": 253,
   "id": "9573e465",
   "metadata": {},
   "outputs": [],
   "source": [
    "df_cf5 = pd.get_dummies(data=df_cf5,prefix=\"district\",columns=[\"l3\"],drop_first=True)"
   ]
  },
  {
   "cell_type": "code",
   "execution_count": 254,
   "id": "20357f6d",
   "metadata": {},
   "outputs": [
    {
     "data": {
      "text/html": [
       "<div>\n",
       "<style scoped>\n",
       "    .dataframe tbody tr th:only-of-type {\n",
       "        vertical-align: middle;\n",
       "    }\n",
       "\n",
       "    .dataframe tbody tr th {\n",
       "        vertical-align: top;\n",
       "    }\n",
       "\n",
       "    .dataframe thead th {\n",
       "        text-align: right;\n",
       "    }\n",
       "</style>\n",
       "<table border=\"1\" class=\"dataframe\">\n",
       "  <thead>\n",
       "    <tr style=\"text-align: right;\">\n",
       "      <th></th>\n",
       "      <th>lat</th>\n",
       "      <th>lon</th>\n",
       "      <th>rooms</th>\n",
       "      <th>bedrooms</th>\n",
       "      <th>bathrooms</th>\n",
       "      <th>surface_total</th>\n",
       "      <th>surface_covered</th>\n",
       "      <th>price</th>\n",
       "      <th>years</th>\n",
       "      <th>Tipo_propiedad</th>\n",
       "      <th>...</th>\n",
       "      <th>district_Villa General Mitre</th>\n",
       "      <th>district_Villa Lugano</th>\n",
       "      <th>district_Villa Luro</th>\n",
       "      <th>district_Villa Ortuzar</th>\n",
       "      <th>district_Villa Pueyrredón</th>\n",
       "      <th>district_Villa Real</th>\n",
       "      <th>district_Villa Santa Rita</th>\n",
       "      <th>district_Villa Soldati</th>\n",
       "      <th>district_Villa Urquiza</th>\n",
       "      <th>district_Villa del Parque</th>\n",
       "    </tr>\n",
       "  </thead>\n",
       "  <tbody>\n",
       "    <tr>\n",
       "      <th>1</th>\n",
       "      <td>-34.624056</td>\n",
       "      <td>-58.412110</td>\n",
       "      <td>2.0</td>\n",
       "      <td>1.0</td>\n",
       "      <td>2.0</td>\n",
       "      <td>70.0</td>\n",
       "      <td>58.0</td>\n",
       "      <td>159000.0</td>\n",
       "      <td>0</td>\n",
       "      <td>2</td>\n",
       "      <td>...</td>\n",
       "      <td>0</td>\n",
       "      <td>0</td>\n",
       "      <td>0</td>\n",
       "      <td>0</td>\n",
       "      <td>0</td>\n",
       "      <td>0</td>\n",
       "      <td>0</td>\n",
       "      <td>0</td>\n",
       "      <td>0</td>\n",
       "      <td>0</td>\n",
       "    </tr>\n",
       "    <tr>\n",
       "      <th>2</th>\n",
       "      <td>-34.593569</td>\n",
       "      <td>-58.427474</td>\n",
       "      <td>2.0</td>\n",
       "      <td>1.0</td>\n",
       "      <td>1.0</td>\n",
       "      <td>45.0</td>\n",
       "      <td>45.0</td>\n",
       "      <td>125000.0</td>\n",
       "      <td>0</td>\n",
       "      <td>2</td>\n",
       "      <td>...</td>\n",
       "      <td>0</td>\n",
       "      <td>0</td>\n",
       "      <td>0</td>\n",
       "      <td>0</td>\n",
       "      <td>0</td>\n",
       "      <td>0</td>\n",
       "      <td>0</td>\n",
       "      <td>0</td>\n",
       "      <td>0</td>\n",
       "      <td>0</td>\n",
       "    </tr>\n",
       "    <tr>\n",
       "      <th>3</th>\n",
       "      <td>-34.581294</td>\n",
       "      <td>-58.436754</td>\n",
       "      <td>2.0</td>\n",
       "      <td>1.0</td>\n",
       "      <td>1.0</td>\n",
       "      <td>85.0</td>\n",
       "      <td>50.0</td>\n",
       "      <td>295000.0</td>\n",
       "      <td>0</td>\n",
       "      <td>2</td>\n",
       "      <td>...</td>\n",
       "      <td>0</td>\n",
       "      <td>0</td>\n",
       "      <td>0</td>\n",
       "      <td>0</td>\n",
       "      <td>0</td>\n",
       "      <td>0</td>\n",
       "      <td>0</td>\n",
       "      <td>0</td>\n",
       "      <td>0</td>\n",
       "      <td>0</td>\n",
       "    </tr>\n",
       "    <tr>\n",
       "      <th>5</th>\n",
       "      <td>-34.593779</td>\n",
       "      <td>-58.441239</td>\n",
       "      <td>2.0</td>\n",
       "      <td>1.0</td>\n",
       "      <td>1.0</td>\n",
       "      <td>56.0</td>\n",
       "      <td>56.0</td>\n",
       "      <td>150000.0</td>\n",
       "      <td>0</td>\n",
       "      <td>2</td>\n",
       "      <td>...</td>\n",
       "      <td>0</td>\n",
       "      <td>0</td>\n",
       "      <td>0</td>\n",
       "      <td>0</td>\n",
       "      <td>0</td>\n",
       "      <td>0</td>\n",
       "      <td>0</td>\n",
       "      <td>0</td>\n",
       "      <td>0</td>\n",
       "      <td>0</td>\n",
       "    </tr>\n",
       "    <tr>\n",
       "      <th>6</th>\n",
       "      <td>-34.600988</td>\n",
       "      <td>-58.433061</td>\n",
       "      <td>2.0</td>\n",
       "      <td>1.0</td>\n",
       "      <td>1.0</td>\n",
       "      <td>70.0</td>\n",
       "      <td>70.0</td>\n",
       "      <td>159500.0</td>\n",
       "      <td>0</td>\n",
       "      <td>2</td>\n",
       "      <td>...</td>\n",
       "      <td>0</td>\n",
       "      <td>0</td>\n",
       "      <td>0</td>\n",
       "      <td>0</td>\n",
       "      <td>0</td>\n",
       "      <td>0</td>\n",
       "      <td>0</td>\n",
       "      <td>0</td>\n",
       "      <td>0</td>\n",
       "      <td>0</td>\n",
       "    </tr>\n",
       "  </tbody>\n",
       "</table>\n",
       "<p>5 rows × 65 columns</p>\n",
       "</div>"
      ],
      "text/plain": [
       "         lat        lon  rooms  bedrooms  bathrooms  surface_total  \\\n",
       "1 -34.624056 -58.412110    2.0       1.0        2.0           70.0   \n",
       "2 -34.593569 -58.427474    2.0       1.0        1.0           45.0   \n",
       "3 -34.581294 -58.436754    2.0       1.0        1.0           85.0   \n",
       "5 -34.593779 -58.441239    2.0       1.0        1.0           56.0   \n",
       "6 -34.600988 -58.433061    2.0       1.0        1.0           70.0   \n",
       "\n",
       "   surface_covered     price  years  Tipo_propiedad  ...  \\\n",
       "1             58.0  159000.0      0               2  ...   \n",
       "2             45.0  125000.0      0               2  ...   \n",
       "3             50.0  295000.0      0               2  ...   \n",
       "5             56.0  150000.0      0               2  ...   \n",
       "6             70.0  159500.0      0               2  ...   \n",
       "\n",
       "   district_Villa General Mitre  district_Villa Lugano  district_Villa Luro  \\\n",
       "1                             0                      0                    0   \n",
       "2                             0                      0                    0   \n",
       "3                             0                      0                    0   \n",
       "5                             0                      0                    0   \n",
       "6                             0                      0                    0   \n",
       "\n",
       "   district_Villa Ortuzar  district_Villa Pueyrredón  district_Villa Real  \\\n",
       "1                       0                          0                    0   \n",
       "2                       0                          0                    0   \n",
       "3                       0                          0                    0   \n",
       "5                       0                          0                    0   \n",
       "6                       0                          0                    0   \n",
       "\n",
       "   district_Villa Santa Rita  district_Villa Soldati  district_Villa Urquiza  \\\n",
       "1                          0                       0                       0   \n",
       "2                          0                       0                       0   \n",
       "3                          0                       0                       0   \n",
       "5                          0                       0                       0   \n",
       "6                          0                       0                       0   \n",
       "\n",
       "   district_Villa del Parque  \n",
       "1                          0  \n",
       "2                          0  \n",
       "3                          0  \n",
       "5                          0  \n",
       "6                          0  \n",
       "\n",
       "[5 rows x 65 columns]"
      ]
     },
     "execution_count": 254,
     "metadata": {},
     "output_type": "execute_result"
    }
   ],
   "source": [
    "df_cf5.head()"
   ]
  },
  {
   "cell_type": "code",
   "execution_count": 255,
   "id": "f95785c0",
   "metadata": {},
   "outputs": [
    {
     "data": {
      "text/plain": [
       "(75582, 65)"
      ]
     },
     "execution_count": 255,
     "metadata": {},
     "output_type": "execute_result"
    }
   ],
   "source": [
    "df_cf5.shape"
   ]
  },
  {
   "cell_type": "markdown",
   "id": "0fe38f5d",
   "metadata": {},
   "source": [
    "### Escalado de datos"
   ]
  },
  {
   "cell_type": "code",
   "execution_count": 290,
   "id": "24942175",
   "metadata": {},
   "outputs": [],
   "source": [
    "df_cf6 = df_cf5.copy()"
   ]
  },
  {
   "cell_type": "code",
   "execution_count": 291,
   "id": "a6590e4e",
   "metadata": {},
   "outputs": [],
   "source": [
    "from sklearn import preprocessing"
   ]
  },
  {
   "cell_type": "code",
   "execution_count": 272,
   "id": "71bf00c7",
   "metadata": {},
   "outputs": [],
   "source": [
    "#separamos nuestros datos en x e y \n",
    "X = df_cf6.drop(\"price\",axis=1)\n",
    "y = df_cf6[\"price\"]"
   ]
  },
  {
   "cell_type": "code",
   "execution_count": 273,
   "id": "fba4e3c3",
   "metadata": {},
   "outputs": [],
   "source": [
    "# Primero evaluamos el metodo mas optimo de para el escalado\n",
    "robust_sc = preprocessing.RobustScaler()\n",
    "standard_sc = preprocessing.StandardScaler() \n",
    "minmax_sc = preprocessing.MinMaxScaler() "
   ]
  },
  {
   "cell_type": "code",
   "execution_count": 274,
   "id": "f4bedca8",
   "metadata": {},
   "outputs": [
    {
     "name": "stdout",
     "output_type": "stream",
     "text": [
      "El escalado Utilizado---> RobustScaler()\n",
      "R2 segun el tipo de estrategia: 0.8125259056761325\n",
      "RMSE segun el tipo de estrategia: 39955.0\n",
      "MAE 27380.0 Segun constant\n",
      "----------------------------------------\n",
      "El escalado Utilizado---> StandardScaler()\n",
      "R2 segun el tipo de estrategia: 0.8125259056761325\n",
      "RMSE segun el tipo de estrategia: 39955.0\n",
      "MAE 27380.0 Segun constant\n",
      "----------------------------------------\n",
      "El escalado Utilizado---> MinMaxScaler()\n",
      "R2 segun el tipo de estrategia: 0.8125259056761325\n",
      "RMSE segun el tipo de estrategia: 39955.0\n",
      "MAE 27380.0 Segun constant\n",
      "----------------------------------------\n"
     ]
    }
   ],
   "source": [
    "for x in [robust_sc,standard_sc,minmax_sc]:\n",
    "    scaler = x.fit(X)\n",
    "    X_new = x.transform(X)\n",
    "    \n",
    "    tree = DecisionTreeRegressor(max_depth=10,random_state=42)\n",
    "    tree.fit(X_new,y)\n",
    "    y_pred = tree.predict(X_new)\n",
    "    \n",
    "    r2 = metrics.r2_score(y, y_pred)\n",
    "    MAE=mean_absolute_error(y,y_pred)\n",
    "    RMSE=np.sqrt(mean_squared_error(y,y_pred))\n",
    "    resultado.append(r2)\n",
    "    print(\"El escalado Utilizado--->\",x)\n",
    "    print(\"R2 segun el tipo de estrategia:\",r2)\n",
    "    print(\"RMSE segun el tipo de estrategia:\",RMSE.round(0))\n",
    "    print('MAE',MAE.round(0),\"Segun\",t)\n",
    "    print(\"----------------------------------------\")"
   ]
  },
  {
   "cell_type": "markdown",
   "id": "3374997a",
   "metadata": {},
   "source": [
    "##### Escalado sin tratar Y"
   ]
  },
  {
   "cell_type": "code",
   "execution_count": 284,
   "id": "54dbecdc",
   "metadata": {},
   "outputs": [],
   "source": [
    "X = df_cf6.drop(\"price\",axis=1).values\n",
    "y = df_cf6[\"price\"].values"
   ]
  },
  {
   "cell_type": "code",
   "execution_count": 285,
   "id": "a965baa4",
   "metadata": {},
   "outputs": [],
   "source": [
    "X_train,X_test,y_train,y_test= train_test_split(X,y,test_size=0.3,random_state=42)"
   ]
  },
  {
   "cell_type": "code",
   "execution_count": 286,
   "id": "47f5bfb6",
   "metadata": {},
   "outputs": [
    {
     "data": {
      "text/plain": [
       "((52907, 64), (22675, 64))"
      ]
     },
     "execution_count": 286,
     "metadata": {},
     "output_type": "execute_result"
    }
   ],
   "source": [
    "X_train.shape,X_test.shape"
   ]
  },
  {
   "cell_type": "code",
   "execution_count": 287,
   "id": "1a53517b",
   "metadata": {
    "scrolled": false
   },
   "outputs": [
    {
     "name": "stdout",
     "output_type": "stream",
     "text": [
      "El escalado utilizado---> RobustScaler()\n",
      "R2 segun el tipo de estrategia: 0.7943095951571159\n",
      "RMSE segun el tipo de estrategia: 42109.90827880705\n",
      "MAE 28875.0 Segun constant\n",
      "----------------------------------------\n",
      "El escalado utilizado---> StandardScaler()\n",
      "R2 segun el tipo de estrategia: 0.7944767284444253\n",
      "RMSE segun el tipo de estrategia: 42092.79664528994\n",
      "MAE 28861.0 Segun constant\n",
      "----------------------------------------\n",
      "El escalado utilizado---> MinMaxScaler()\n",
      "R2 segun el tipo de estrategia: 0.7943896310659833\n",
      "RMSE segun el tipo de estrategia: 42101.71481761607\n",
      "MAE 28867.0 Segun constant\n",
      "----------------------------------------\n"
     ]
    }
   ],
   "source": [
    "for x in [robust_sc,standard_sc,minmax_sc]:\n",
    "    scaler = x.fit(X_train)\n",
    "    X_train_new = x.transform(X_train)\n",
    "    X_test_new = x.transform(X_test)\n",
    "        \n",
    "    tree = DecisionTreeRegressor(max_depth=10,random_state=42)\n",
    "    tree.fit(X_train_new,y_train)\n",
    "    y_pred = tree.predict(X_test_new)\n",
    "    \n",
    "    r2 = metrics.r2_score(y_test, y_pred)\n",
    "    MAE=mean_absolute_error(y_test,y_pred)\n",
    "    RMSE=np.sqrt(mean_squared_error(y_test,y_pred))\n",
    "    resultado.append(r2)\n",
    "    print(\"El escalado utilizado--->\",x)\n",
    "    print(\"R2 segun el tipo de estrategia:\",r2)\n",
    "    print(\"RMSE segun el tipo de estrategia:\",RMSE)\n",
    "    print('MAE',MAE.round(0),\"Segun\",t)\n",
    "    print(\"----------------------------------------\")"
   ]
  },
  {
   "cell_type": "code",
   "execution_count": 292,
   "id": "185a5f09",
   "metadata": {},
   "outputs": [],
   "source": [
    "minmax_sc = preprocessing.MinMaxScaler() \n",
    "\n",
    "X_train=minmax_sc.fit_transform(X_train)\n",
    "X_test=minmax_sc.transform(X_test)"
   ]
  },
  {
   "cell_type": "code",
   "execution_count": 293,
   "id": "d56fcaef",
   "metadata": {},
   "outputs": [
    {
     "name": "stdout",
     "output_type": "stream",
     "text": [
      "R2 segun el tipo de estrategia: 0.7943896310659833\n",
      "RMSE segun el tipo de estrategia: 42101.71481761607\n",
      "MAE 28867.0 Segun constant\n"
     ]
    }
   ],
   "source": [
    "tree = DecisionTreeRegressor(max_depth=10,random_state=42)\n",
    "tree.fit(X_train,y_train)\n",
    "    \n",
    "y_pred = tree.predict(X_test)\n",
    "r2 = metrics.r2_score(y_test, y_pred)\n",
    "MAE=mean_absolute_error(y_test,y_pred)\n",
    "RMSE=np.sqrt(mean_squared_error(y_test,y_pred))\n",
    "\n",
    "\n",
    "print(\"R2 segun el tipo de estrategia:\",r2)\n",
    "print(\"RMSE segun el tipo de estrategia:\",RMSE)\n",
    "print('MAE',MAE.round(0),\"Segun\",t)"
   ]
  },
  {
   "cell_type": "markdown",
   "id": "b7f727a5",
   "metadata": {},
   "source": [
    "### PCA"
   ]
  },
  {
   "cell_type": "code",
   "execution_count": 312,
   "id": "3aba6866",
   "metadata": {
    "scrolled": false
   },
   "outputs": [],
   "source": [
    "pca_p=PCA\n",
    "PCA_range = range(2, 64)\n",
    "\n",
    "for i in PCA_range:\n",
    "    pca_p=PCA(n_components=i,random_state=42)\n",
    "    X_train_new=pca_p.fit_transform(X_train)\n",
    "    X_test_new=pca_p.transform(X_test)\n",
    "    \n",
    "    tree = DecisionTreeRegressor(max_depth=10,random_state=42)\n",
    "    tree.fit(X_train_new,y_train)\n",
    "    \n",
    "    y_pred = tree.predict(X_test_new)"
   ]
  },
  {
   "cell_type": "code",
   "execution_count": 318,
   "id": "9b52389e",
   "metadata": {
    "scrolled": true
   },
   "outputs": [
    {
     "data": {
      "image/png": "[encoded data removed]",
      "text/plain": [
       "<Figure size 432x288 with 1 Axes>"
      ]
     },
     "metadata": {},
     "output_type": "display_data"
    }
   ],
   "source": [
    "pca = PCA(64).fit(X_test)\n",
    "plt.plot(np.cumsum(pca.explained_variance_ratio_))\n",
    "plt.title(\"Plot CEV para PCA\")\n",
    "plt.xlabel('Numero de componentes')\n",
    "plt.ylabel('cumulative explained variance');"
   ]
  },
  {
   "cell_type": "markdown",
   "id": "22a98240",
   "metadata": {},
   "source": [
    "### SVD\n"
   ]
  },
  {
   "cell_type": "code",
   "execution_count": 322,
   "id": "efde36e7",
   "metadata": {},
   "outputs": [],
   "source": [
    "svd=TruncatedSVD\n",
    "\n",
    "for i in range(2,64):\n",
    "    svd=TruncatedSVD(n_components=i,random_state=42)\n",
    "    X_train_new=svd.fit_transform(X_train)\n",
    "    X_test_new=svd.transform(X_test)\n",
    "    \n",
    "    tree = DecisionTreeRegressor(max_depth=10,random_state=42)\n",
    "    tree.fit(X_train_new,y_train)\n",
    "    \n",
    "    y_pred = tree.predict(X_test_new)"
   ]
  },
  {
   "cell_type": "code",
   "execution_count": 325,
   "id": "54572014",
   "metadata": {},
   "outputs": [
    {
     "data": {
      "image/png": "[encoded data removed]",
      "text/plain": [
       "<Figure size 432x288 with 1 Axes>"
      ]
     },
     "metadata": {},
     "output_type": "display_data"
    }
   ],
   "source": [
    "svd = TruncatedSVD(63).fit(X_test)\n",
    "plt.plot(np.cumsum(pca.explained_variance_ratio_))\n",
    "plt.title(\"Plot CEV para SVD\")\n",
    "plt.xlabel('Numero de componentes')\n",
    "plt.ylabel('cumulative explained variance');"
   ]
  },
  {
   "cell_type": "markdown",
   "id": "ec9efa08",
   "metadata": {},
   "source": [
    "# Reentrenando el modelo del proyecto_1"
   ]
  },
  {
   "cell_type": "markdown",
   "id": "e2c24a7a",
   "metadata": {},
   "source": [
    "Modelo de Arbol de decision con Optimizacion:\n",
    "    \n",
    "    Profundidad del arbol en 20\n",
    "    mae_train: 50043\n"
   ]
  },
  {
   "cell_type": "code",
   "execution_count": 326,
   "id": "7cd98fbf",
   "metadata": {},
   "outputs": [
    {
     "data": {
      "image/png": "[encoded data removed]",
      "text/plain": [
       "<Figure size 1080x288 with 2 Axes>"
      ]
     },
     "metadata": {},
     "output_type": "display_data"
    }
   ],
   "source": [
    "MAX_DEPTH_range = range(1, 21)\n",
    "scores = []\n",
    "arbol_r2_train_pred=[]\n",
    "arbol_r2_test_pred=[]\n",
    "\n",
    "for k in MAX_DEPTH_range:\n",
    "    new_arbol_regressor = DecisionTreeRegressor(max_depth=k,random_state=42)\n",
    "    new_arbol_regressor.fit(X_train, y_train)\n",
    "    scores.append(new_arbol_regressor.score(X_test, y_test))\n",
    "    \n",
    "    y_train_pred = new_arbol_regressor.predict(X_train)\n",
    "    arbol_r2_train = metrics.r2_score(y_train, y_train_pred)\n",
    "    arbol_r2_train_pred.append(arbol_r2_train)\n",
    "    \n",
    "    y_test_pred = new_arbol_regressor.predict(X_test)\n",
    "    arbol_r2_test = metrics.r2_score(y_test, y_test_pred)\n",
    "    arbol_r2_test_pred.append(arbol_r2_test)\n",
    "    \n",
    "\n",
    "fig = plt.figure(figsize=(15,4))\n",
    "\n",
    "ax1 = fig.add_subplot(121)\n",
    "ax2 = fig.add_subplot(122)\n",
    "\n",
    "\n",
    "ax1.scatter(MAX_DEPTH_range,scores,marker=\"o\")\n",
    "ax2.scatter(MAX_DEPTH_range,arbol_r2_train_pred,marker=\"o\",label=\"train\")\n",
    "ax2.scatter(MAX_DEPTH_range,arbol_r2_test_pred,marker=\"o\",label=\"test\")\n",
    "\n",
    "ax1.set_xticks(MAX_DEPTH_range)\n",
    "ax2.set_xticks(MAX_DEPTH_range)\n",
    "\n",
    "ax2.legend()\n",
    "\n",
    "\n",
    "ax1.set_title('exactitud')\n",
    "ax1.set_xlabel('max depth')\n",
    "ax1.set_ylabel('exactitud')\n",
    "\n",
    "ax2.set_title('r2')\n",
    "ax2.set_xlabel('max depth')\n",
    "ax2.set_ylabel('r2')\n",
    "\n",
    "plt.show()"
   ]
  },
  {
   "cell_type": "code",
   "execution_count": 327,
   "id": "73c19fa4",
   "metadata": {},
   "outputs": [
    {
     "data": {
      "text/plain": [
       "DecisionTreeRegressor(max_depth=19, random_state=42)"
      ]
     },
     "execution_count": 327,
     "metadata": {},
     "output_type": "execute_result"
    }
   ],
   "source": [
    "arbol_proyecto1 = DecisionTreeRegressor(max_depth= 19,random_state=42)\n",
    "arbol_proyecto1.fit(X_train,y_train)"
   ]
  },
  {
   "cell_type": "code",
   "execution_count": 329,
   "id": "e5f3cafa",
   "metadata": {},
   "outputs": [
    {
     "data": {
      "text/plain": [
       "DecisionTreeRegressor(max_depth=10, random_state=42)"
      ]
     },
     "execution_count": 329,
     "metadata": {},
     "output_type": "execute_result"
    }
   ],
   "source": [
    "arbol_proyecto2 = DecisionTreeRegressor(max_depth= 10,random_state=42)\n",
    "arbol_proyecto2.fit(X_train,y_train)"
   ]
  },
  {
   "cell_type": "code",
   "execution_count": 330,
   "id": "3e5fec60",
   "metadata": {},
   "outputs": [
    {
     "name": "stdout",
     "output_type": "stream",
     "text": [
      "Modelo: Arbol Proyecto 1\n",
      "R2 en Train: 0.9705859124393589\n",
      "R2 ajustado en train: 0.9705502873380402\n",
      "--------------------------\n",
      "R2 en test: 0.8322175682075534\n",
      "R2 ajustado en Test: 0.8317426422617455\n",
      "--------------------------\n",
      "RMSE en train: 15784.135575512022\n",
      "RMSE en test: 38032.11882893022\n"
     ]
    },
    {
     "data": {
      "image/png": "[encoded data removed]",
      "text/plain": [
       "<Figure size 1008x288 with 1 Axes>"
      ]
     },
     "metadata": {},
     "output_type": "display_data"
    },
    {
     "name": "stdout",
     "output_type": "stream",
     "text": [
      "Modelo: Arbol Proyecto 2\n",
      "R2 en Train: 0.8193338528241997\n",
      "R2 ajustado en train: 0.8191150376124505\n",
      "--------------------------\n",
      "R2 en test: 0.7943896310659833\n",
      "R2 ajustado en Test: 0.7938076291371121\n",
      "--------------------------\n",
      "RMSE en train: 39118.43787051083\n",
      "RMSE en test: 42101.71481761607\n"
     ]
    },
    {
     "data": {
      "image/png": "[encoded data removed]",
      "text/plain": [
       "<Figure size 1008x288 with 1 Axes>"
      ]
     },
     "metadata": {},
     "output_type": "display_data"
    }
   ],
   "source": [
    "models = [\"Arbol Proyecto 1\",\"Arbol Proyecto 2\"]\n",
    "\n",
    "for i, model in enumerate([arbol_proyecto1, arbol_proyecto2]):\n",
    "    y_train_pred = model.predict(X_train)\n",
    "    y_test_pred = model.predict(X_test)\n",
    "   \n",
    "\n",
    "    print(f'Modelo: {models[i]}')\n",
    "    \n",
    "    r2_train= metrics.r2_score(y_train, y_train_pred)\n",
    "    r2_test= metrics.r2_score(y_test, y_test_pred)\n",
    "    \n",
    "    adj_r2_train = 1 - ((1 - r2_train) * (len(y_train) - 1)) / (len(y_train) - X_train.shape[1] - 1)\n",
    "    adj_r2_test = 1 - ((1 - r2_test) * (len(y_test) - 1)) / (len(y_test) - X_test.shape[1] - 1)\n",
    "\n",
    "    RMSE_train=np.sqrt(mean_squared_error(y_train,y_train_pred))\n",
    "    RMSE_test=np.sqrt(mean_squared_error(y_test,y_test_pred))\n",
    "\n",
    "    print(\"R2 en Train:\", r2_train)\n",
    "    print(\"R2 ajustado en train:\", adj_r2_train)\n",
    "    print(\"--------------------------\")\n",
    "    print(\"R2 en test:\", r2_test)\n",
    "    print(\"R2 ajustado en Test:\", adj_r2_test)\n",
    "    print(\"--------------------------\")\n",
    "    print(\"RMSE en train:\",RMSE_train)\n",
    "    print(\"RMSE en test:\",RMSE_test)\n",
    "\n",
    "    plt.figure(figsize = (14,4))\n",
    "   \n",
    "    ax = plt.subplot(1,2,2)\n",
    "    ax.scatter(y_test,y_test_pred, s =2)\n",
    "    \n",
    "    lims = [\n",
    "    np.min([ax.get_xlim(), ax.get_ylim()]),  # min of both axes\n",
    "    np.max([ax.get_xlim(), ax.get_ylim()]),  # max of both axes]\n",
    "    ]\n",
    "    \n",
    "    ax.plot(lims, lims, 'k-', alpha=0.75, zorder=0)\n",
    "    plt.xlabel('y (test)')\n",
    "    plt.ylabel('y_pred (test)')\n",
    "    \n",
    "    plt.tight_layout()\n",
    "    plt.show()"
   ]
  }
 ],
 "metadata": {
  "kernelspec": {
   "display_name": "Python 3",
   "language": "python",
   "name": "python3"
  },
  "language_info": {
   "codemirror_mode": {
    "name": "ipython",
    "version": 3
   },
   "file_extension": ".py",
   "mimetype": "text/x-python",
   "name": "python",
   "nbconvert_exporter": "python",
   "pygments_lexer": "ipython3",
   "version": "3.8.8"
  }
 },
 "nbformat": 4,
 "nbformat_minor": 5
}
